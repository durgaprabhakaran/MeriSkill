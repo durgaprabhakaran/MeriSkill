{
 "cells": [
  {
   "cell_type": "markdown",
   "id": "1d2d3ae3-8582-41da-8e30-04fc7db051df",
   "metadata": {},
   "source": [
    "# Day 2: Profitability Calculation\n",
    "**Goal:** Calculate per-user profitability metrics for each marketing campaign and identify initial insights."
   ]
  },
  {
   "cell_type": "code",
   "execution_count": 2,
   "id": "4a5b74b2-39c8-438a-8fd8-de4bfd79128d",
   "metadata": {},
   "outputs": [
    {
     "name": "stderr",
     "output_type": "stream",
     "text": [
      "C:\\Users\\Durga\\AppData\\Local\\Temp\\ipykernel_13528\\338909950.py:8: DtypeWarning: Columns (3,10) have mixed types. Specify dtype option on import or set low_memory=False.\n",
      "  df = pd.read_csv(file_path)\n"
     ]
    },
    {
     "data": {
      "text/html": [
       "<div>\n",
       "<style scoped>\n",
       "    .dataframe tbody tr th:only-of-type {\n",
       "        vertical-align: middle;\n",
       "    }\n",
       "\n",
       "    .dataframe tbody tr th {\n",
       "        vertical-align: top;\n",
       "    }\n",
       "\n",
       "    .dataframe thead th {\n",
       "        text-align: right;\n",
       "    }\n",
       "</style>\n",
       "<table border=\"1\" class=\"dataframe\">\n",
       "  <thead>\n",
       "    <tr style=\"text-align: right;\">\n",
       "      <th></th>\n",
       "      <th>OrderID</th>\n",
       "      <th>Region</th>\n",
       "      <th>Country</th>\n",
       "      <th>CustID</th>\n",
       "      <th>Customer_Name</th>\n",
       "      <th>ProductSKU</th>\n",
       "      <th>Product_Category</th>\n",
       "      <th>OrderLineItem</th>\n",
       "      <th>OrderQuantity</th>\n",
       "      <th>ProductCost</th>\n",
       "      <th>ProductPrice</th>\n",
       "      <th>OrderDate</th>\n",
       "      <th>AcquisitionSource</th>\n",
       "      <th>TransactionID</th>\n",
       "      <th>Fraud</th>\n",
       "      <th>PaymentMethod</th>\n",
       "      <th>CardType</th>\n",
       "      <th>Gender</th>\n",
       "    </tr>\n",
       "  </thead>\n",
       "  <tbody>\n",
       "    <tr>\n",
       "      <th>0</th>\n",
       "      <td>SO45080</td>\n",
       "      <td>Northwest</td>\n",
       "      <td>United States</td>\n",
       "      <td>14657</td>\n",
       "      <td>JOHN THOMAS</td>\n",
       "      <td>BK-R50B-58</td>\n",
       "      <td>Plants</td>\n",
       "      <td>1</td>\n",
       "      <td>1.0</td>\n",
       "      <td>413.1463</td>\n",
       "      <td>699.0982</td>\n",
       "      <td>01-01-2020</td>\n",
       "      <td>Meta-ads\\r</td>\n",
       "      <td>I4127227587819694</td>\n",
       "      <td>False</td>\n",
       "      <td>CREDITCARD</td>\n",
       "      <td>DISCOVER</td>\n",
       "      <td>M</td>\n",
       "    </tr>\n",
       "    <tr>\n",
       "      <th>1</th>\n",
       "      <td>SO45079</td>\n",
       "      <td>Southwest</td>\n",
       "      <td>United States</td>\n",
       "      <td>29255</td>\n",
       "      <td>KYLE WASHINGTON</td>\n",
       "      <td>BK-R93R-48</td>\n",
       "      <td>Plants</td>\n",
       "      <td>1</td>\n",
       "      <td>1.0</td>\n",
       "      <td>2171.2942</td>\n",
       "      <td>3578.27</td>\n",
       "      <td>01-01-2020</td>\n",
       "      <td>Google-ads\\r</td>\n",
       "      <td>E9525730529761877</td>\n",
       "      <td>False</td>\n",
       "      <td>CREDITCARD</td>\n",
       "      <td>MC</td>\n",
       "      <td>M</td>\n",
       "    </tr>\n",
       "    <tr>\n",
       "      <th>2</th>\n",
       "      <td>SO45082</td>\n",
       "      <td>Australia</td>\n",
       "      <td>Australia</td>\n",
       "      <td>11455</td>\n",
       "      <td>ROSS SANZ</td>\n",
       "      <td>BK-M82B-44</td>\n",
       "      <td>Plants</td>\n",
       "      <td>1</td>\n",
       "      <td>1.0</td>\n",
       "      <td>1898.0944</td>\n",
       "      <td>3374.99</td>\n",
       "      <td>01-01-2020</td>\n",
       "      <td>Google-ads\\r</td>\n",
       "      <td>Z6376643485803420</td>\n",
       "      <td>False</td>\n",
       "      <td>CREDITCARD</td>\n",
       "      <td>VISA</td>\n",
       "      <td>M</td>\n",
       "    </tr>\n",
       "    <tr>\n",
       "      <th>3</th>\n",
       "      <td>SO45081</td>\n",
       "      <td>Canada</td>\n",
       "      <td>Canada</td>\n",
       "      <td>26782</td>\n",
       "      <td>SETH LEWIS</td>\n",
       "      <td>BK-R50B-44</td>\n",
       "      <td>Plants</td>\n",
       "      <td>1</td>\n",
       "      <td>1.0</td>\n",
       "      <td>413.1463</td>\n",
       "      <td>699.0982</td>\n",
       "      <td>01-01-2020</td>\n",
       "      <td>Google-ads\\r</td>\n",
       "      <td>R8609290025411138</td>\n",
       "      <td>False</td>\n",
       "      <td>CREDITCARD</td>\n",
       "      <td>VISA</td>\n",
       "      <td>M</td>\n",
       "    </tr>\n",
       "    <tr>\n",
       "      <th>4</th>\n",
       "      <td>SO45083</td>\n",
       "      <td>United Kingdom</td>\n",
       "      <td>United Kingdom</td>\n",
       "      <td>14947</td>\n",
       "      <td>ALEJANDRO CHEN</td>\n",
       "      <td>BK-R93R-48</td>\n",
       "      <td>Plants</td>\n",
       "      <td>1</td>\n",
       "      <td>1.0</td>\n",
       "      <td>2171.2942</td>\n",
       "      <td>3578.27</td>\n",
       "      <td>02-01-2020</td>\n",
       "      <td>Meta-ads\\r</td>\n",
       "      <td>Y9572700698484288</td>\n",
       "      <td>False</td>\n",
       "      <td>CREDITCARD</td>\n",
       "      <td>VISA</td>\n",
       "      <td>M</td>\n",
       "    </tr>\n",
       "  </tbody>\n",
       "</table>\n",
       "</div>"
      ],
      "text/plain": [
       "   OrderID          Region         Country CustID    Customer_Name  \\\n",
       "0  SO45080       Northwest   United States  14657      JOHN THOMAS   \n",
       "1  SO45079       Southwest   United States  29255  KYLE WASHINGTON   \n",
       "2  SO45082       Australia       Australia  11455        ROSS SANZ   \n",
       "3  SO45081          Canada          Canada  26782       SETH LEWIS   \n",
       "4  SO45083  United Kingdom  United Kingdom  14947   ALEJANDRO CHEN   \n",
       "\n",
       "   ProductSKU Product_Category  OrderLineItem  OrderQuantity  ProductCost  \\\n",
       "0  BK-R50B-58           Plants              1            1.0     413.1463   \n",
       "1  BK-R93R-48           Plants              1            1.0    2171.2942   \n",
       "2  BK-M82B-44           Plants              1            1.0    1898.0944   \n",
       "3  BK-R50B-44           Plants              1            1.0     413.1463   \n",
       "4  BK-R93R-48           Plants              1            1.0    2171.2942   \n",
       "\n",
       "  ProductPrice   OrderDate AcquisitionSource      TransactionID  Fraud  \\\n",
       "0     699.0982  01-01-2020        Meta-ads\\r  I4127227587819694  False   \n",
       "1      3578.27  01-01-2020      Google-ads\\r  E9525730529761877  False   \n",
       "2      3374.99  01-01-2020      Google-ads\\r  Z6376643485803420  False   \n",
       "3     699.0982  01-01-2020      Google-ads\\r  R8609290025411138  False   \n",
       "4      3578.27  02-01-2020        Meta-ads\\r  Y9572700698484288  False   \n",
       "\n",
       "  PaymentMethod  CardType Gender  \n",
       "0    CREDITCARD  DISCOVER      M  \n",
       "1    CREDITCARD        MC      M  \n",
       "2    CREDITCARD      VISA      M  \n",
       "3    CREDITCARD      VISA      M  \n",
       "4    CREDITCARD      VISA      M  "
      ]
     },
     "execution_count": 2,
     "metadata": {},
     "output_type": "execute_result"
    }
   ],
   "source": [
    "import pandas as pd\n",
    "import numpy as np\n",
    "import matplotlib.pyplot as plt\n",
    "import seaborn as sns\n",
    "\n",
    "# Load cleaned data\n",
    "file_path = r\"C:\\Users\\Durga\\Desktop\\Career 2025\\MeriSkill\\Week1\\Order_Data_Cleaned.csv\"\n",
    "df = pd.read_csv(file_path)\n",
    "df.head()"
   ]
  },
  {
   "cell_type": "code",
   "execution_count": 4,
   "id": "35ba5202-b2b6-49c3-8772-6d114c696072",
   "metadata": {},
   "outputs": [
    {
     "data": {
      "text/plain": [
       "Index(['OrderID', 'Region', 'Country', 'CustID', 'Customer_Name', 'ProductSKU',\n",
       "       'Product_Category', 'OrderLineItem', 'OrderQuantity', 'ProductCost',\n",
       "       'ProductPrice', 'OrderDate', 'AcquisitionSource', 'TransactionID',\n",
       "       'Fraud', 'PaymentMethod', 'CardType', 'Gender'],\n",
       "      dtype='object')"
      ]
     },
     "execution_count": 4,
     "metadata": {},
     "output_type": "execute_result"
    }
   ],
   "source": [
    "df.columns"
   ]
  },
  {
   "cell_type": "code",
   "execution_count": 10,
   "id": "0a9c7f75-3b0a-46df-a579-a99400521d70",
   "metadata": {},
   "outputs": [
    {
     "name": "stdout",
     "output_type": "stream",
     "text": [
      "ProductPrice    0\n",
      "ProductCost     0\n",
      "dtype: int64\n"
     ]
    }
   ],
   "source": [
    "# Convert ProductPrice and ProductCost to numeric\n",
    "df['ProductPrice'] = pd.to_numeric(df['ProductPrice'], errors='coerce')\n",
    "df['ProductCost'] = pd.to_numeric(df['ProductCost'], errors='coerce')\n",
    "df.dropna(subset=['ProductPrice', 'ProductCost'], inplace=True)\n",
    "# Check if there are any NaNs introduced (meaning invalid values)\n",
    "print(df[['ProductPrice', 'ProductCost']].isnull().sum())\n"
   ]
  },
  {
   "cell_type": "code",
   "execution_count": 12,
   "id": "2ed2a8f0-3935-4b6b-95ad-330463ac4c67",
   "metadata": {},
   "outputs": [
    {
     "data": {
      "text/html": [
       "<div>\n",
       "<style scoped>\n",
       "    .dataframe tbody tr th:only-of-type {\n",
       "        vertical-align: middle;\n",
       "    }\n",
       "\n",
       "    .dataframe tbody tr th {\n",
       "        vertical-align: top;\n",
       "    }\n",
       "\n",
       "    .dataframe thead th {\n",
       "        text-align: right;\n",
       "    }\n",
       "</style>\n",
       "<table border=\"1\" class=\"dataframe\">\n",
       "  <thead>\n",
       "    <tr style=\"text-align: right;\">\n",
       "      <th></th>\n",
       "      <th>AcquisitionSource</th>\n",
       "      <th>total_revenue</th>\n",
       "      <th>total_cost</th>\n",
       "      <th>total_profit</th>\n",
       "      <th>total_customers</th>\n",
       "      <th>profit_per_customer</th>\n",
       "    </tr>\n",
       "  </thead>\n",
       "  <tbody>\n",
       "    <tr>\n",
       "      <th>0</th>\n",
       "      <td>Google-ads\\r</td>\n",
       "      <td>1.984020e+07</td>\n",
       "      <td>1.151215e+07</td>\n",
       "      <td>8.328057e+06</td>\n",
       "      <td>19239</td>\n",
       "      <td>432.873695</td>\n",
       "    </tr>\n",
       "    <tr>\n",
       "      <th>1</th>\n",
       "      <td>Meta-ads\\r</td>\n",
       "      <td>2.572408e+06</td>\n",
       "      <td>1.493116e+06</td>\n",
       "      <td>1.079291e+06</td>\n",
       "      <td>4905</td>\n",
       "      <td>220.039024</td>\n",
       "    </tr>\n",
       "    <tr>\n",
       "      <th>2</th>\n",
       "      <td>Yt-Campaign\\r</td>\n",
       "      <td>2.478366e+06</td>\n",
       "      <td>1.438438e+06</td>\n",
       "      <td>1.039928e+06</td>\n",
       "      <td>4921</td>\n",
       "      <td>211.324603</td>\n",
       "    </tr>\n",
       "  </tbody>\n",
       "</table>\n",
       "</div>"
      ],
      "text/plain": [
       "  AcquisitionSource  total_revenue    total_cost  total_profit  \\\n",
       "0      Google-ads\\r   1.984020e+07  1.151215e+07  8.328057e+06   \n",
       "1        Meta-ads\\r   2.572408e+06  1.493116e+06  1.079291e+06   \n",
       "2     Yt-Campaign\\r   2.478366e+06  1.438438e+06  1.039928e+06   \n",
       "\n",
       "   total_customers  profit_per_customer  \n",
       "0            19239           432.873695  \n",
       "1             4905           220.039024  \n",
       "2             4921           211.324603  "
      ]
     },
     "execution_count": 12,
     "metadata": {},
     "output_type": "execute_result"
    }
   ],
   "source": [
    "# Calculate profit per order line\n",
    "df['Profit'] = (df['ProductPrice'] - df['ProductCost']) * df['OrderQuantity']\n",
    "# Group by Acquisition Source (campaign)\n",
    "profitability = df.groupby('AcquisitionSource').agg(\n",
    "    total_revenue = ('ProductPrice', lambda x: (x * df.loc[x.index, 'OrderQuantity']).sum()),\n",
    "    total_cost = ('ProductCost', lambda x: (x * df.loc[x.index, 'OrderQuantity']).sum()),\n",
    "    total_profit = ('Profit', 'sum'),\n",
    "    total_customers = ('CustID', 'nunique')\n",
    ").reset_index()\n",
    "\n",
    "# Calculate profit per customer\n",
    "profitability['profit_per_customer'] = profitability['total_profit'] / profitability['total_customers']\n",
    "\n",
    "profitability.sort_values(by='profit_per_customer', ascending=False)"
   ]
  },
  {
   "cell_type": "code",
   "execution_count": 18,
   "id": "6d424676-cfe0-4f4e-919b-b372d9499113",
   "metadata": {},
   "outputs": [
    {
     "name": "stderr",
     "output_type": "stream",
     "text": [
      ") missing from font(s) DejaVu Sans.ckages\\IPython\\core\\pylabtools.py:170: UserWarning: Glyph 13 (\n",
      "  fig.canvas.print_figure(bytes_io, **kw)\n"
     ]
    },
    {
     "data": {
      "image/png": "[encoded data removed]",
      "text/plain": [
       "<Figure size 1000x600 with 1 Axes>"
      ]
     },
     "metadata": {},
     "output_type": "display_data"
    }
   ],
   "source": [
    "plt.figure(figsize=(10,6))\n",
    "sns.barplot(x='AcquisitionSource', y='profit_per_customer', data=profitability, hue='AcquisitionSource', dodge=False, palette='husl')\n",
    "plt.title('Profit per Customer by Acquisition Source')\n",
    "plt.xticks(rotation=45)\n",
    "plt.legend([],[], frameon=False)  # remove legend if you don’t want repetition\n",
    "plt.show()"
   ]
  },
  {
   "cell_type": "markdown",
   "id": "4532b5e3-02ec-4b96-a1e4-0423a386038d",
   "metadata": {},
   "source": [
    "## ✅ Summary:\n",
    "- Calculated revenue, cost, and profit per acquisition source.\n",
    "- Derived profit per customer metric.\n",
    "- Visualized the profitability of different acquisition sources."
   ]
  }
 ],
 "metadata": {
  "kernelspec": {
   "display_name": "Python [conda env:base] *",
   "language": "python",
   "name": "conda-base-py"
  },
  "language_info": {
   "codemirror_mode": {
    "name": "ipython",
    "version": 3
   },
   "file_extension": ".py",
   "mimetype": "text/x-python",
   "name": "python",
   "nbconvert_exporter": "python",
   "pygments_lexer": "ipython3",
   "version": "3.12.7"
  }
 },
 "nbformat": 4,
 "nbformat_minor": 5
}
